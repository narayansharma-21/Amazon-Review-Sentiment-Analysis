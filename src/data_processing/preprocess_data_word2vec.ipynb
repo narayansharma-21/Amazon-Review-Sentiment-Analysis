{
 "cells": [
  {
   "cell_type": "markdown",
   "metadata": {},
   "source": [
    "# Data Preprocessing\n",
    "\n",
    "This is the same as the other `preprocess_data` notebook, however, this one attempts to get rid of the stop words that may be good indicators for low-tiered star classification. Being that there is a low accuracy with classifying low-tiered stars, a custom stop-word list can be a potential solution to increasing this accuracy. This notebook produces the vectorization of the tokenized `reviewText` column that is used as input for the different modeling. The vectorization process also utilizes `Word2Vec` (which has not been used previously) and `Doc2Vec` modeling to produce the desired matrices."
   ]
  },
  {
   "cell_type": "markdown",
   "metadata": {},
   "source": [
    "## Extract data into pandas dataframe"
   ]
  },
  {
   "cell_type": "markdown",
   "metadata": {},
   "source": [
    "Ensure that the `AMAZON_FASHION.json.gz` file has been downloaded and copied into this directory. See `README.md` for more information."
   ]
  },
  {
   "cell_type": "code",
   "execution_count": 54,
   "metadata": {},
   "outputs": [],
   "source": [
    "import pandas as pd\n",
    "import gzip\n",
    "import json\n",
    "\n",
    "def parse(path):\n",
    "  g = gzip.open(path, 'rb')\n",
    "  for l in g:\n",
    "    yield json.loads(l)\n",
    "\n",
    "def getDF(path):\n",
    "  df = {}\n",
    "  for i, d in enumerate(parse(path)):\n",
    "    df[i] = d\n",
    "  return pd.DataFrame.from_dict(df, orient='index')\n",
    "\n",
    "df = getDF('../../data/raw/AMAZON_FASHION.json.gz')"
   ]
  },
  {
   "cell_type": "code",
   "execution_count": 55,
   "metadata": {},
   "outputs": [
    {
     "data": {
      "text/html": [
       "<div>\n",
       "<style scoped>\n",
       "    .dataframe tbody tr th:only-of-type {\n",
       "        vertical-align: middle;\n",
       "    }\n",
       "\n",
       "    .dataframe tbody tr th {\n",
       "        vertical-align: top;\n",
       "    }\n",
       "\n",
       "    .dataframe thead th {\n",
       "        text-align: right;\n",
       "    }\n",
       "</style>\n",
       "<table border=\"1\" class=\"dataframe\">\n",
       "  <thead>\n",
       "    <tr style=\"text-align: right;\">\n",
       "      <th></th>\n",
       "      <th>reviewText</th>\n",
       "      <th>summary</th>\n",
       "      <th>overall</th>\n",
       "    </tr>\n",
       "  </thead>\n",
       "  <tbody>\n",
       "    <tr>\n",
       "      <th>0</th>\n",
       "      <td>Exactly what I needed.</td>\n",
       "      <td>perfect replacements!!</td>\n",
       "      <td>5.0</td>\n",
       "    </tr>\n",
       "    <tr>\n",
       "      <th>1</th>\n",
       "      <td>I agree with the other review, the opening is ...</td>\n",
       "      <td>I agree with the other review, the opening is ...</td>\n",
       "      <td>2.0</td>\n",
       "    </tr>\n",
       "    <tr>\n",
       "      <th>2</th>\n",
       "      <td>Love these... I am going to order another pack...</td>\n",
       "      <td>My New 'Friends' !!</td>\n",
       "      <td>4.0</td>\n",
       "    </tr>\n",
       "    <tr>\n",
       "      <th>3</th>\n",
       "      <td>too tiny an opening</td>\n",
       "      <td>Two Stars</td>\n",
       "      <td>2.0</td>\n",
       "    </tr>\n",
       "    <tr>\n",
       "      <th>4</th>\n",
       "      <td>Okay</td>\n",
       "      <td>Three Stars</td>\n",
       "      <td>3.0</td>\n",
       "    </tr>\n",
       "  </tbody>\n",
       "</table>\n",
       "</div>"
      ],
      "text/plain": [
       "                                          reviewText  \\\n",
       "0                             Exactly what I needed.   \n",
       "1  I agree with the other review, the opening is ...   \n",
       "2  Love these... I am going to order another pack...   \n",
       "3                                too tiny an opening   \n",
       "4                                               Okay   \n",
       "\n",
       "                                             summary  overall  \n",
       "0                             perfect replacements!!      5.0  \n",
       "1  I agree with the other review, the opening is ...      2.0  \n",
       "2                                My New 'Friends' !!      4.0  \n",
       "3                                          Two Stars      2.0  \n",
       "4                                        Three Stars      3.0  "
      ]
     },
     "execution_count": 55,
     "metadata": {},
     "output_type": "execute_result"
    }
   ],
   "source": [
    "# Remove duplicate reviews\n",
    "# Any review with the same reviewText, reviewerID, overall ranking is considered a duplicate\n",
    "df = df.drop_duplicates(subset=['reviewText', 'summary', 'reviewerID', 'overall'])\n",
    "\n",
    "# Keep relevant columns\n",
    "df = df[['reviewText', 'summary', 'overall']]\n",
    "\n",
    "# Drop reviews with no reviewText or summary since we are primarily interested in analyzing review text\n",
    "df = df.dropna(subset=['reviewText', 'summary'])\n",
    "\n",
    "df.head()"
   ]
  },
  {
   "cell_type": "code",
   "execution_count": 56,
   "metadata": {},
   "outputs": [
    {
     "name": "stdout",
     "output_type": "stream",
     "text": [
      "Columns with NaN values:\n",
      "reviewText    False\n",
      "summary       False\n",
      "overall       False\n",
      "dtype: bool\n"
     ]
    }
   ],
   "source": [
    "# Check for NaN values in each column\n",
    "nan_columns = df.isna().any()\n",
    "print(\"Columns with NaN values:\")\n",
    "print(nan_columns)"
   ]
  },
  {
   "cell_type": "markdown",
   "metadata": {},
   "source": [
    "## EDA"
   ]
  },
  {
   "cell_type": "markdown",
   "metadata": {},
   "source": [
    "Distribution of star ratings"
   ]
  },
  {
   "cell_type": "code",
   "execution_count": 57,
   "metadata": {},
   "outputs": [
    {
     "data": {
      "text/plain": [
       "Text(0, 0.5, 'Number of Reviews')"
      ]
     },
     "execution_count": 57,
     "metadata": {},
     "output_type": "execute_result"
    },
    {
     "data": {
      "image/png": "[encoded data removed]",
      "text/plain": [
       "<Figure size 640x480 with 1 Axes>"
      ]
     },
     "metadata": {},
     "output_type": "display_data"
    }
   ],
   "source": [
    "import matplotlib.pyplot as plt\n",
    "plt.hist(df['overall'], bins=5)\n",
    "plt.title('Distribution of Star Ratings')\n",
    "plt.xlabel('Star Rating')\n",
    "plt.ylabel('Number of Reviews')"
   ]
  },
  {
   "cell_type": "markdown",
   "metadata": {},
   "source": [
    "Star ratings skew left with a clear peak for 5 stars. To avoid bias, we could consider sampling to achieve more equally distributed training data."
   ]
  },
  {
   "cell_type": "code",
   "execution_count": 58,
   "metadata": {},
   "outputs": [
    {
     "name": "stdout",
     "output_type": "stream",
     "text": [
      "count    851564.000000\n",
      "mean        147.731871\n",
      "std         202.141667\n",
      "min           1.000000\n",
      "25%          36.000000\n",
      "50%          88.000000\n",
      "75%         180.000000\n",
      "max       10565.000000\n",
      "Name: reviewTextLength, dtype: float64\n",
      "count    851564.000000\n",
      "mean         21.645268\n",
      "std          18.832864\n",
      "min           1.000000\n",
      "25%          10.000000\n",
      "50%          12.000000\n",
      "75%          28.000000\n",
      "max         663.000000\n",
      "Name: reviewSummaryLength, dtype: float64\n"
     ]
    }
   ],
   "source": [
    "df['reviewTextLength'] = df['reviewText'].str.len()\n",
    "print(df['reviewTextLength'].describe())\n",
    "\n",
    "df['reviewSummaryLength'] = df['summary'].str.len()\n",
    "print(df['reviewSummaryLength'].describe())"
   ]
  },
  {
   "cell_type": "code",
   "execution_count": 59,
   "metadata": {},
   "outputs": [
    {
     "name": "stdout",
     "output_type": "stream",
     "text": [
      "reviewTextLength\n",
      "1         154\n",
      "2        1740\n",
      "3         594\n",
      "4        7749\n",
      "5        4945\n",
      "         ... \n",
      "6543        1\n",
      "6688        1\n",
      "7398        1\n",
      "9461        1\n",
      "10565       1\n",
      "Name: count, Length: 2582, dtype: int64\n"
     ]
    },
    {
     "data": {
      "text/plain": [
       "(0.0, 10000.0)"
      ]
     },
     "execution_count": 59,
     "metadata": {},
     "output_type": "execute_result"
    },
    {
     "data": {
      "image/png": "[encoded data removed]",
      "text/plain": [
       "<Figure size 640x480 with 1 Axes>"
      ]
     },
     "metadata": {},
     "output_type": "display_data"
    }
   ],
   "source": [
    "# look at distribution of reviewTextLength\n",
    "print(df['reviewTextLength'].value_counts().sort_index())\n",
    "plt.hist(df['reviewTextLength'], bins=50)\n",
    "plt.title('Distribution of Review Length')\n",
    "plt.xlabel('Length of Review Text')\n",
    "plt.ylabel('Number of Reviews')\n",
    "plt.xlim(0, 10000)"
   ]
  },
  {
   "cell_type": "markdown",
   "metadata": {},
   "source": [
    "This shows that review length skews right with many large outliers."
   ]
  },
  {
   "cell_type": "code",
   "execution_count": 60,
   "metadata": {},
   "outputs": [
    {
     "name": "stdout",
     "output_type": "stream",
     "text": [
      "reviewSummaryLength\n",
      "1        162\n",
      "2       1657\n",
      "3       2053\n",
      "4      10452\n",
      "5       9431\n",
      "       ...  \n",
      "228        1\n",
      "251        1\n",
      "267        1\n",
      "278        1\n",
      "663        1\n",
      "Name: count, Length: 179, dtype: int64\n"
     ]
    },
    {
     "data": {
      "text/plain": [
       "(0.0, 700.0)"
      ]
     },
     "execution_count": 60,
     "metadata": {},
     "output_type": "execute_result"
    },
    {
     "data": {
      "image/png": "[encoded data removed]",
      "text/plain": [
       "<Figure size 640x480 with 1 Axes>"
      ]
     },
     "metadata": {},
     "output_type": "display_data"
    }
   ],
   "source": [
    "print(df['reviewSummaryLength'].value_counts().sort_index())\n",
    "plt.hist(df['reviewSummaryLength'], bins=20)\n",
    "plt.title('Distribution of Review Summary Length')\n",
    "plt.xlabel('Length of Review Summary Text')\n",
    "plt.ylabel('Number of Reviews')\n",
    "plt.xlim(0, 700)"
   ]
  },
  {
   "cell_type": "markdown",
   "metadata": {},
   "source": [
    "Summary text tends to be under 100 characters, with very few larger than that."
   ]
  },
  {
   "cell_type": "markdown",
   "metadata": {},
   "source": [
    "## Tokenization"
   ]
  },
  {
   "cell_type": "code",
   "execution_count": 61,
   "metadata": {},
   "outputs": [],
   "source": [
    "# sample 50,000 reviews\n",
    "df = df.sample(50000, random_state=42)"
   ]
  },
  {
   "cell_type": "code",
   "execution_count": 62,
   "metadata": {},
   "outputs": [],
   "source": [
    "from nltk import word_tokenize\n",
    "from collections import Counter\n",
    "\n",
    "# Concatenate the summary and reviewText columns\n",
    "df['reviewTextTotal'] = df['summary'] + ' ' + df['reviewText']\n",
    "\n",
    "# Tokenize the reviewText column\n",
    "all_words = []\n",
    "for review in df['reviewTextTotal']:\n",
    "    words = word_tokenize(review.lower())\n",
    "    all_words.extend(words)\n",
    "\n",
    "# Count the frequency of each word\n",
    "word_counts = Counter(all_words)\n",
    "\n",
    "# Determine the most common words\n",
    "most_common_words = word_counts.most_common()\n"
   ]
  },
  {
   "cell_type": "code",
   "execution_count": 63,
   "metadata": {},
   "outputs": [
    {
     "name": "stdout",
     "output_type": "stream",
     "text": [
      ".: 101344\n",
      "the: 69395\n",
      "i: 64459\n",
      "it: 53765\n",
      "and: 48006\n",
      "a: 44287\n",
      ",: 43522\n",
      "!: 32374\n",
      "to: 29877\n",
      "is: 27340\n",
      "for: 23301\n",
      "this: 21583\n",
      "my: 19406\n",
      "but: 19234\n",
      "was: 16514\n",
      "in: 16186\n",
      "of: 16084\n",
      "stars: 15791\n",
      "not: 15029\n",
      "very: 14336\n",
      "great: 12625\n",
      "on: 12024\n",
      "they: 11567\n",
      "love: 11446\n",
      "n't: 11265\n",
      "that: 11102\n",
      "so: 11062\n",
      "are: 10819\n",
      "with: 10135\n",
      "like: 10127\n",
      "as: 10107\n",
      "five: 9792\n",
      "fit: 9494\n",
      "have: 9259\n",
      "'s: 9148\n",
      "size: 8942\n",
      "you: 8831\n",
      "small: 7905\n",
      "them: 7813\n",
      "these: 7790\n"
     ]
    }
   ],
   "source": [
    "# Print the most common words\n",
    "for word, frequency in most_common_words[:40]:\n",
    "    print(f'{word}: {frequency}')"
   ]
  },
  {
   "cell_type": "code",
   "execution_count": 64,
   "metadata": {},
   "outputs": [
    {
     "name": "stdout",
     "output_type": "stream",
     "text": [
      "['.', 'the', 'i', 'it', 'and', 'a', ',', '!', 'to', 'is', 'for', 'this', 'my', 'but', 'was', 'in', 'of', 'stars', 'not', 'very', 'great', 'on', 'they', 'love', \"n't\", 'that', 'so', 'are', 'with', 'like', 'as', 'five', 'fit', 'have', \"'s\", 'size', 'you', 'small', 'them', 'these']\n"
     ]
    }
   ],
   "source": [
    "top_40_words = [word for word, _ in most_common_words[:40]]\n",
    "print(top_40_words)\n"
   ]
  },
  {
   "cell_type": "code",
   "execution_count": 65,
   "metadata": {},
   "outputs": [
    {
     "name": "stdout",
     "output_type": "stream",
     "text": [
      "['.', 'the', 'i', 'it', 'and', 'a', ',', '!', 'to', 'is', 'for', 'this', 'my', 'was', 'in', 'of', 'on', 'they', 'that', 'so', 'are', 'with', 'as', 'have', \"'s\", 'you', 'them', 'these']\n"
     ]
    }
   ],
   "source": [
    "# Words to remove that are good indicating words\n",
    "words_to_remove = ['not', 'very', \"n't\", 'love', 'great', 'like', 'fit', 'small', 'but', 'stars', 'five', 'size', 'good']\n",
    "\n",
    "# Filter out the words to remove\n",
    "filtered_top_40_words = [word for word in top_40_words if word not in words_to_remove]\n",
    "\n",
    "# Print the filtered list\n",
    "print(filtered_top_40_words)\n"
   ]
  },
  {
   "cell_type": "code",
   "execution_count": 66,
   "metadata": {},
   "outputs": [
    {
     "name": "stderr",
     "output_type": "stream",
     "text": [
      "[nltk_data] Downloading package punkt to\n",
      "[nltk_data]     C:\\Users\\lucym\\AppData\\Roaming\\nltk_data...\n",
      "[nltk_data]   Package punkt is already up-to-date!\n",
      "[nltk_data] Downloading package wordnet to\n",
      "[nltk_data]     C:\\Users\\lucym\\AppData\\Roaming\\nltk_data...\n",
      "[nltk_data]   Package wordnet is already up-to-date!\n"
     ]
    },
    {
     "data": {
      "text/html": [
       "<div>\n",
       "<style scoped>\n",
       "    .dataframe tbody tr th:only-of-type {\n",
       "        vertical-align: middle;\n",
       "    }\n",
       "\n",
       "    .dataframe tbody tr th {\n",
       "        vertical-align: top;\n",
       "    }\n",
       "\n",
       "    .dataframe thead th {\n",
       "        text-align: right;\n",
       "    }\n",
       "</style>\n",
       "<table border=\"1\" class=\"dataframe\">\n",
       "  <thead>\n",
       "    <tr style=\"text-align: right;\">\n",
       "      <th></th>\n",
       "      <th>reviewText</th>\n",
       "      <th>summary</th>\n",
       "      <th>overall</th>\n",
       "      <th>reviewTextLength</th>\n",
       "      <th>reviewSummaryLength</th>\n",
       "      <th>reviewTextTotal</th>\n",
       "      <th>reviewTokens</th>\n",
       "    </tr>\n",
       "  </thead>\n",
       "  <tbody>\n",
       "    <tr>\n",
       "      <th>470738</th>\n",
       "      <td>Beautiful!</td>\n",
       "      <td>Five Stars</td>\n",
       "      <td>5.0</td>\n",
       "      <td>10</td>\n",
       "      <td>10</td>\n",
       "      <td>Five Stars Beautiful!</td>\n",
       "      <td>[five, star, beauti]</td>\n",
       "    </tr>\n",
       "    <tr>\n",
       "      <th>205718</th>\n",
       "      <td>I both like and dislike this wallet.  I like t...</td>\n",
       "      <td>Both like and dislike the small size.</td>\n",
       "      <td>4.0</td>\n",
       "      <td>234</td>\n",
       "      <td>37</td>\n",
       "      <td>Both like and dislike the small size. I both l...</td>\n",
       "      <td>[both, like, dislik, small, size, both, like, ...</td>\n",
       "    </tr>\n",
       "    <tr>\n",
       "      <th>524759</th>\n",
       "      <td>material really thin</td>\n",
       "      <td>One Star</td>\n",
       "      <td>1.0</td>\n",
       "      <td>20</td>\n",
       "      <td>8</td>\n",
       "      <td>One Star material really thin</td>\n",
       "      <td>[one, star, materi, realli, thin]</td>\n",
       "    </tr>\n",
       "    <tr>\n",
       "      <th>274569</th>\n",
       "      <td>Love the belt...Will not go back to a belt wit...</td>\n",
       "      <td>Love the belt</td>\n",
       "      <td>5.0</td>\n",
       "      <td>247</td>\n",
       "      <td>13</td>\n",
       "      <td>Love the belt Love the belt...Will not go back...</td>\n",
       "      <td>[love, belt, love, belt, ..., will, not, go, b...</td>\n",
       "    </tr>\n",
       "    <tr>\n",
       "      <th>374875</th>\n",
       "      <td>I chose orange color on purpose so I won't los...</td>\n",
       "      <td>Love it!!</td>\n",
       "      <td>5.0</td>\n",
       "      <td>148</td>\n",
       "      <td>9</td>\n",
       "      <td>Love it!! I chose orange color on purpose so I...</td>\n",
       "      <td>[love, chose, orang, color, purpos, wo, n't, l...</td>\n",
       "    </tr>\n",
       "  </tbody>\n",
       "</table>\n",
       "</div>"
      ],
      "text/plain": [
       "                                               reviewText  \\\n",
       "470738                                         Beautiful!   \n",
       "205718  I both like and dislike this wallet.  I like t...   \n",
       "524759                               material really thin   \n",
       "274569  Love the belt...Will not go back to a belt wit...   \n",
       "374875  I chose orange color on purpose so I won't los...   \n",
       "\n",
       "                                      summary  overall  reviewTextLength  \\\n",
       "470738                             Five Stars      5.0                10   \n",
       "205718  Both like and dislike the small size.      4.0               234   \n",
       "524759                               One Star      1.0                20   \n",
       "274569                          Love the belt      5.0               247   \n",
       "374875                              Love it!!      5.0               148   \n",
       "\n",
       "        reviewSummaryLength  \\\n",
       "470738                   10   \n",
       "205718                   37   \n",
       "524759                    8   \n",
       "274569                   13   \n",
       "374875                    9   \n",
       "\n",
       "                                          reviewTextTotal  \\\n",
       "470738                              Five Stars Beautiful!   \n",
       "205718  Both like and dislike the small size. I both l...   \n",
       "524759                      One Star material really thin   \n",
       "274569  Love the belt Love the belt...Will not go back...   \n",
       "374875  Love it!! I chose orange color on purpose so I...   \n",
       "\n",
       "                                             reviewTokens  \n",
       "470738                               [five, star, beauti]  \n",
       "205718  [both, like, dislik, small, size, both, like, ...  \n",
       "524759                  [one, star, materi, realli, thin]  \n",
       "274569  [love, belt, love, belt, ..., will, not, go, b...  \n",
       "374875  [love, chose, orang, color, purpos, wo, n't, l...  "
      ]
     },
     "execution_count": 66,
     "metadata": {},
     "output_type": "execute_result"
    }
   ],
   "source": [
    "import nltk\n",
    "from nltk.corpus import stopwords\n",
    "from nltk.stem import PorterStemmer, WordNetLemmatizer\n",
    "\n",
    "# Download necessary resources\n",
    "nltk.download('punkt')\n",
    "nltk.download('wordnet')\n",
    "\n",
    "stemmer = PorterStemmer()\n",
    "# lemmatizer = WordNetLemmatizer()\n",
    "\n",
    "# Function to tokenize, stem, and lemmatize the review text\n",
    "def tokenize_stem_review(review, stopwords):\n",
    "    tokens = nltk.word_tokenize(review)\n",
    "    tokens = [t.lower() for t in tokens if t.lower() not in stopwords]\n",
    "    stemmed_tokens = [stemmer.stem(token) for token in tokens]\n",
    "    return stemmed_tokens\n",
    "\n",
    "# Apply tokenization, stemming, and lemmatization to each review text and using filtered top_40_words\n",
    "df['reviewTokens'] = df.apply(lambda row: tokenize_stem_review(row['reviewTextTotal'], filtered_top_40_words), axis=1)\n",
    "\n",
    "df.head()\n"
   ]
  },
  {
   "cell_type": "code",
   "execution_count": 71,
   "metadata": {},
   "outputs": [
    {
     "name": "stdout",
     "output_type": "stream",
     "text": [
      "CSV file saved as '../../data/processed/tokenized_data_sample_with_custom_stopwords.csv'\n"
     ]
    }
   ],
   "source": [
    "# Save the new DataFrame as CSV\n",
    "new_csv_file_path = '../../data/processed/tokenized_data_sample_with_custom_stopwords.csv'\n",
    "\n",
    "df.to_csv(new_csv_file_path)\n",
    "\n",
    "# Confirm the CSV file has been saved\n",
    "print(f\"CSV file saved as '{new_csv_file_path}'\")\n"
   ]
  },
  {
   "cell_type": "markdown",
   "metadata": {},
   "source": [
    "## Vectorizing Textual Features"
   ]
  },
  {
   "cell_type": "code",
   "execution_count": 72,
   "metadata": {},
   "outputs": [],
   "source": [
    "from gensim.models import Word2Vec\n",
    "import pandas as pd\n",
    "import numpy as np\n",
    "\n",
    "tokenized_data = pd.read_csv('../../data/processed/tokenized_data_sample_with_custom_stopwords.csv')['reviewTextTotal']\n",
    "\n",
    "# Train the Word2Vec model\n",
    "vec_size = 100  # Dimensionality of the word vectors\n",
    "window = 5  # Maximum distance between the current and predicted word within a sentence\n",
    "min_count = 1  # Minimum frequency of a word to be considered for training\n",
    "workers = 4  # Number of threads to use while training\n",
    "\n",
    "model = Word2Vec(sentences=tokenized_data, vector_size=vec_size, window=window, min_count=min_count, workers=workers)\n",
    "\n",
    "\n",
    "word_vectors = []\n",
    "\n",
    "# Iterate through each tokenized sentence or document and retrieve word vectors\n",
    "for tokens in tokenized_data:\n",
    "    word_vectors.append(np.mean([model.wv[token] if token in model.wv else np.zeroes(vec_size) for token in tokens], axis=0))\n",
    "\n",
    "# Convert the list of word vectors into a NumPy array\n",
    "vectorized_features_with_custom_stopwords_word2vec = np.array(word_vectors)"
   ]
  },
  {
   "cell_type": "code",
   "execution_count": 73,
   "metadata": {},
   "outputs": [
    {
     "data": {
      "text/plain": [
       "50000"
      ]
     },
     "execution_count": 73,
     "metadata": {},
     "output_type": "execute_result"
    }
   ],
   "source": [
    "len(vectorized_features_with_custom_stopwords_word2vec)"
   ]
  },
  {
   "cell_type": "code",
   "execution_count": 75,
   "metadata": {},
   "outputs": [
    {
     "ename": "",
     "evalue": "",
     "output_type": "error",
     "traceback": [
      "\u001b[1;31mThe Kernel crashed while executing code in the current cell or a previous cell. \n",
      "\u001b[1;31mPlease review the code in the cell(s) to identify a possible cause of the failure. \n",
      "\u001b[1;31mClick <a href='https://aka.ms/vscodeJupyterKernelCrash'>here</a> for more info. \n",
      "\u001b[1;31mView Jupyter <a href='command:jupyter.viewOutput'>log</a> for further details."
     ]
    }
   ],
   "source": [
    "import numpy as np\n",
    "np.save('../../data/processed/sample_vectorized_features_with_custom_stopwords_word2vec.npy', vectorized_features_with_custom_stopwords_word2vec)\n"
   ]
  }
 ],
 "metadata": {
  "kernelspec": {
   "display_name": "Python 3",
   "language": "python",
   "name": "python3"
  },
  "language_info": {
   "codemirror_mode": {
    "name": "ipython",
    "version": 3
   },
   "file_extension": ".py",
   "mimetype": "text/x-python",
   "name": "python",
   "nbconvert_exporter": "python",
   "pygments_lexer": "ipython3",
   "version": "3.10.11"
  }
 },
 "nbformat": 4,
 "nbformat_minor": 2
}

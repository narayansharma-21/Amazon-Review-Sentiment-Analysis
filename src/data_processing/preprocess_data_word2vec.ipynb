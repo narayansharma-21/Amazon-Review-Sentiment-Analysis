{
 "cells": [
  {
   "cell_type": "markdown",
   "metadata": {},
   "source": [
    "# Data Preprocessing\n",
    "\n",
    "This is the same as the other `preprocess_data` notebook, however, this one attempts to get rid of the stop words that may be good indicators for low-tiered star classification. Being that there is a low accuracy with classifying low-tiered stars, a custom stop-word list can be a potential solution to increasing this accuracy. This notebook produces the vectorization of the tokenized `reviewText` column that is used as input for the different modeling. The vectorization process also utilizes `Word2Vec` (which has not been used previously) and `Doc2Vec` modeling to produce the desired matrices."
   ]
  },
  {
   "cell_type": "markdown",
   "metadata": {},
   "source": [
    "## Extract data into pandas dataframe"
   ]
  },
  {
   "cell_type": "markdown",
   "metadata": {},
   "source": [
    "Ensure that the `AMAZON_FASHION.json.gz` file has been downloaded and copied into this directory. See `README.md` for more information."
   ]
  },
  {
   "cell_type": "code",
   "execution_count": 1,
   "metadata": {},
   "outputs": [],
   "source": [
    "import pandas as pd\n",
    "import gzip\n",
    "import json\n",
    "\n",
    "def parse(path):\n",
    "  g = gzip.open(path, 'rb')\n",
    "  for l in g:\n",
    "    yield json.loads(l)\n",
    "\n",
    "def getDF(path):\n",
    "  df = {}\n",
    "  for i, d in enumerate(parse(path)):\n",
    "    df[i] = d\n",
    "  return pd.DataFrame.from_dict(df, orient='index')\n",
    "\n",
    "df = getDF('../../data/raw/AMAZON_FASHION.json.gz')"
   ]
  },
  {
   "cell_type": "code",
   "execution_count": 2,
   "metadata": {},
   "outputs": [
    {
     "data": {
      "text/html": [
       "<div>\n",
       "<style scoped>\n",
       "    .dataframe tbody tr th:only-of-type {\n",
       "        vertical-align: middle;\n",
       "    }\n",
       "\n",
       "    .dataframe tbody tr th {\n",
       "        vertical-align: top;\n",
       "    }\n",
       "\n",
       "    .dataframe thead th {\n",
       "        text-align: right;\n",
       "    }\n",
       "</style>\n",
       "<table border=\"1\" class=\"dataframe\">\n",
       "  <thead>\n",
       "    <tr style=\"text-align: right;\">\n",
       "      <th></th>\n",
       "      <th>reviewText</th>\n",
       "      <th>overall</th>\n",
       "    </tr>\n",
       "  </thead>\n",
       "  <tbody>\n",
       "    <tr>\n",
       "      <th>0</th>\n",
       "      <td>Exactly what I needed.</td>\n",
       "      <td>5.0</td>\n",
       "    </tr>\n",
       "    <tr>\n",
       "      <th>1</th>\n",
       "      <td>I agree with the other review, the opening is ...</td>\n",
       "      <td>2.0</td>\n",
       "    </tr>\n",
       "    <tr>\n",
       "      <th>2</th>\n",
       "      <td>Love these... I am going to order another pack...</td>\n",
       "      <td>4.0</td>\n",
       "    </tr>\n",
       "    <tr>\n",
       "      <th>3</th>\n",
       "      <td>too tiny an opening</td>\n",
       "      <td>2.0</td>\n",
       "    </tr>\n",
       "    <tr>\n",
       "      <th>4</th>\n",
       "      <td>Okay</td>\n",
       "      <td>3.0</td>\n",
       "    </tr>\n",
       "  </tbody>\n",
       "</table>\n",
       "</div>"
      ],
      "text/plain": [
       "                                          reviewText  overall\n",
       "0                             Exactly what I needed.      5.0\n",
       "1  I agree with the other review, the opening is ...      2.0\n",
       "2  Love these... I am going to order another pack...      4.0\n",
       "3                                too tiny an opening      2.0\n",
       "4                                               Okay      3.0"
      ]
     },
     "execution_count": 2,
     "metadata": {},
     "output_type": "execute_result"
    }
   ],
   "source": [
    "# Remove duplicate reviews\n",
    "# Any review with the same reviewText, reviewerID, overall ranking is considered a duplicate\n",
    "df = df.drop_duplicates(subset=['reviewText', 'reviewerID', 'overall'])\n",
    "\n",
    "# Keep relevant columns\n",
    "df = df[['reviewText', 'overall']]\n",
    "\n",
    "# Drop reviews with no reviewText since we are primarily interested in analyzing review text\n",
    "df = df.dropna(subset=['reviewText'])\n",
    "\n",
    "df.head()"
   ]
  },
  {
   "cell_type": "code",
   "execution_count": 3,
   "metadata": {},
   "outputs": [
    {
     "name": "stdout",
     "output_type": "stream",
     "text": [
      "Columns with NaN values:\n",
      "reviewText    False\n",
      "overall       False\n",
      "dtype: bool\n"
     ]
    }
   ],
   "source": [
    "# Check for NaN values in each column\n",
    "nan_columns = df.isna().any()\n",
    "print(\"Columns with NaN values:\")\n",
    "print(nan_columns)"
   ]
  },
  {
   "cell_type": "markdown",
   "metadata": {},
   "source": [
    "## EDA"
   ]
  },
  {
   "cell_type": "markdown",
   "metadata": {},
   "source": [
    "Distribution of star ratings"
   ]
  },
  {
   "cell_type": "code",
   "execution_count": 4,
   "metadata": {},
   "outputs": [
    {
     "data": {
      "text/plain": [
       "Text(0, 0.5, 'Number of Reviews')"
      ]
     },
     "execution_count": 4,
     "metadata": {},
     "output_type": "execute_result"
    },
    {
     "data": {
      "image/png": "[encoded data removed]",
      "text/plain": [
       "<Figure size 640x480 with 1 Axes>"
      ]
     },
     "metadata": {},
     "output_type": "display_data"
    }
   ],
   "source": [
    "import matplotlib.pyplot as plt\n",
    "plt.hist(df['overall'], bins=5)\n",
    "plt.title('Distribution of Star Ratings')\n",
    "plt.xlabel('Star Rating')\n",
    "plt.ylabel('Number of Reviews')"
   ]
  },
  {
   "cell_type": "markdown",
   "metadata": {},
   "source": [
    "Star ratings skew left with a clear peak for 5 stars. To avoid bias, we could consider sampling to achieve more equally distributed training data."
   ]
  },
  {
   "cell_type": "code",
   "execution_count": 5,
   "metadata": {},
   "outputs": [
    {
     "name": "stdout",
     "output_type": "stream",
     "text": [
      "count    851740.000000\n",
      "mean        147.683403\n",
      "std         202.048854\n",
      "min           1.000000\n",
      "25%          36.000000\n",
      "50%          88.000000\n",
      "75%         180.000000\n",
      "max       10565.000000\n",
      "Name: reviewTextLength, dtype: float64\n"
     ]
    }
   ],
   "source": [
    "df['reviewTextLength'] = df['reviewText'].str.len()\n",
    "print(df['reviewTextLength'].describe())"
   ]
  },
  {
   "cell_type": "code",
   "execution_count": 6,
   "metadata": {},
   "outputs": [
    {
     "name": "stdout",
     "output_type": "stream",
     "text": [
      "reviewTextLength\n",
      "1         154\n",
      "2        1739\n",
      "3         594\n",
      "4        7743\n",
      "5        4941\n",
      "         ... \n",
      "6543        1\n",
      "6688        1\n",
      "7398        1\n",
      "9461        1\n",
      "10565       1\n",
      "Name: count, Length: 2582, dtype: int64\n"
     ]
    },
    {
     "data": {
      "text/plain": [
       "(0.0, 10000.0)"
      ]
     },
     "execution_count": 6,
     "metadata": {},
     "output_type": "execute_result"
    },
    {
     "data": {
      "image/png": "[encoded data removed]",
      "text/plain": [
       "<Figure size 640x480 with 1 Axes>"
      ]
     },
     "metadata": {},
     "output_type": "display_data"
    }
   ],
   "source": [
    "# look at distribution of reviewTextLength\n",
    "print(df['reviewTextLength'].value_counts().sort_index())\n",
    "plt.hist(df['reviewTextLength'], bins=50)\n",
    "plt.title('Distribution of Review Length')\n",
    "plt.xlabel('Length of Review Text')\n",
    "plt.ylabel('Number of Reviews')\n",
    "plt.xlim(0, 10000)"
   ]
  },
  {
   "cell_type": "markdown",
   "metadata": {},
   "source": [
    "This shows that review length skews right with many large outliers."
   ]
  },
  {
   "cell_type": "markdown",
   "metadata": {},
   "source": [
    "## Tokenization"
   ]
  },
  {
   "cell_type": "code",
   "execution_count": 7,
   "metadata": {},
   "outputs": [],
   "source": [
    "# sample 50,000 reviews\n",
    "df = df.sample(50000, random_state=42)"
   ]
  },
  {
   "cell_type": "code",
   "execution_count": 8,
   "metadata": {},
   "outputs": [],
   "source": [
    "from nltk import word_tokenize\n",
    "from collections import Counter\n",
    "\n",
    "# Tokenize the reviewText column\n",
    "all_words = []\n",
    "for review in df['reviewText']:\n",
    "    words = word_tokenize(review.lower())\n",
    "    all_words.extend(words)\n",
    "\n",
    "# Count the frequency of each word\n",
    "word_counts = Counter(all_words)\n",
    "\n",
    "# Determine the most common words\n",
    "most_common_words = word_counts.most_common()\n"
   ]
  },
  {
   "cell_type": "code",
   "execution_count": 9,
   "metadata": {},
   "outputs": [
    {
     "name": "stdout",
     "output_type": "stream",
     "text": [
      ".: 96465\n",
      "the: 63452\n",
      "i: 58544\n",
      "it: 49321\n",
      "and: 43583\n",
      "a: 40454\n",
      ",: 40374\n",
      "to: 28220\n",
      "is: 25020\n",
      "!: 24483\n",
      "for: 20514\n",
      "this: 19373\n",
      "my: 18071\n",
      "but: 16417\n",
      "was: 15059\n",
      "of: 14946\n",
      "in: 14808\n",
      "not: 12636\n",
      "very: 12486\n",
      "on: 11182\n",
      "that: 10781\n",
      "they: 10505\n",
      "n't: 10237\n",
      "so: 10143\n",
      "are: 9682\n",
      "with: 9506\n",
      "as: 9195\n",
      "great: 8847\n",
      "have: 8643\n",
      "'s: 8636\n",
      "love: 8475\n",
      "like: 8372\n",
      "fit: 8146\n",
      "you: 7953\n",
      "size: 7829\n",
      "them: 6920\n",
      "these: 6817\n",
      "be: 6554\n",
      "small: 6535\n",
      "too: 6241\n"
     ]
    }
   ],
   "source": [
    "# Print the most common words\n",
    "for word, frequency in most_common_words[:40]:\n",
    "    print(f'{word}: {frequency}')"
   ]
  },
  {
   "cell_type": "code",
   "execution_count": 10,
   "metadata": {},
   "outputs": [
    {
     "name": "stdout",
     "output_type": "stream",
     "text": [
      "['.', 'the', 'i', 'it', 'and', 'a', ',', 'to', 'is', '!', 'for', 'this', 'my', 'but', 'was', 'of', 'in', 'not', 'very', 'on', 'that', 'they', \"n't\", 'so', 'are', 'with', 'as', 'great', 'have', \"'s\", 'love', 'like', 'fit', 'you', 'size', 'them', 'these', 'be', 'small', 'too']\n"
     ]
    }
   ],
   "source": [
    "top_40_words = [word for word, _ in most_common_words[:40]]\n",
    "print(top_40_words)\n"
   ]
  },
  {
   "cell_type": "code",
   "execution_count": 11,
   "metadata": {},
   "outputs": [
    {
     "name": "stdout",
     "output_type": "stream",
     "text": [
      "['.', 'the', 'i', 'it', 'and', 'a', ',', 'to', 'is', '!', 'for', 'this', 'my', 'was', 'of', 'in', 'on', 'that', 'they', 'so', 'are', 'with', 'as', 'have', \"'s\", 'you', 'them', 'these', 'be', 'too']\n"
     ]
    }
   ],
   "source": [
    "# Words to remove that are good indicating words\n",
    "words_to_remove = ['not', 'very', \"n't\", 'love', 'great', 'like', 'fit', 'small', 'but', 'size']\n",
    "\n",
    "# Filter out the words to remove\n",
    "filtered_top_40_words = [word for word in top_40_words if word not in words_to_remove]\n",
    "\n",
    "# Print the filtered list\n",
    "print(filtered_top_40_words)\n"
   ]
  },
  {
   "cell_type": "code",
   "execution_count": 13,
   "metadata": {},
   "outputs": [
    {
     "name": "stderr",
     "output_type": "stream",
     "text": [
      "[nltk_data] Downloading package punkt to\n",
      "[nltk_data]     C:\\Users\\lucym\\AppData\\Roaming\\nltk_data...\n",
      "[nltk_data]   Package punkt is already up-to-date!\n",
      "[nltk_data] Downloading package wordnet to\n",
      "[nltk_data]     C:\\Users\\lucym\\AppData\\Roaming\\nltk_data...\n",
      "[nltk_data]   Package wordnet is already up-to-date!\n"
     ]
    },
    {
     "data": {
      "text/html": [
       "<div>\n",
       "<style scoped>\n",
       "    .dataframe tbody tr th:only-of-type {\n",
       "        vertical-align: middle;\n",
       "    }\n",
       "\n",
       "    .dataframe tbody tr th {\n",
       "        vertical-align: top;\n",
       "    }\n",
       "\n",
       "    .dataframe thead th {\n",
       "        text-align: right;\n",
       "    }\n",
       "</style>\n",
       "<table border=\"1\" class=\"dataframe\">\n",
       "  <thead>\n",
       "    <tr style=\"text-align: right;\">\n",
       "      <th></th>\n",
       "      <th>reviewText</th>\n",
       "      <th>overall</th>\n",
       "      <th>reviewTextLength</th>\n",
       "      <th>reviewTokens</th>\n",
       "    </tr>\n",
       "  </thead>\n",
       "  <tbody>\n",
       "    <tr>\n",
       "      <th>667904</th>\n",
       "      <td>I was pleasantly surprised that these are slig...</td>\n",
       "      <td>4.0</td>\n",
       "      <td>170</td>\n",
       "      <td>[pleasantli, surpris, slightli, decent, qualit...</td>\n",
       "    </tr>\n",
       "    <tr>\n",
       "      <th>264104</th>\n",
       "      <td>Great lightweight skirt that pairs well with p...</td>\n",
       "      <td>5.0</td>\n",
       "      <td>108</td>\n",
       "      <td>[great, lightweight, skirt, pair, well, pretti...</td>\n",
       "    </tr>\n",
       "    <tr>\n",
       "      <th>693418</th>\n",
       "      <td>Does not look like the picture at all - nice m...</td>\n",
       "      <td>1.0</td>\n",
       "      <td>78</td>\n",
       "      <td>[doe, not, look, like, pictur, at, all, -, nic...</td>\n",
       "    </tr>\n",
       "    <tr>\n",
       "      <th>466010</th>\n",
       "      <td>for my size this is a very comfortable suit- I...</td>\n",
       "      <td>4.0</td>\n",
       "      <td>280</td>\n",
       "      <td>[size, veri, comfort, suit-, am, glad, ha, cup...</td>\n",
       "    </tr>\n",
       "    <tr>\n",
       "      <th>774815</th>\n",
       "      <td>Love, love, love!!!!!!</td>\n",
       "      <td>5.0</td>\n",
       "      <td>22</td>\n",
       "      <td>[love, love, love]</td>\n",
       "    </tr>\n",
       "  </tbody>\n",
       "</table>\n",
       "</div>"
      ],
      "text/plain": [
       "                                               reviewText  overall  \\\n",
       "667904  I was pleasantly surprised that these are slig...      4.0   \n",
       "264104  Great lightweight skirt that pairs well with p...      5.0   \n",
       "693418  Does not look like the picture at all - nice m...      1.0   \n",
       "466010  for my size this is a very comfortable suit- I...      4.0   \n",
       "774815                             Love, love, love!!!!!!      5.0   \n",
       "\n",
       "        reviewTextLength                                       reviewTokens  \n",
       "667904               170  [pleasantli, surpris, slightli, decent, qualit...  \n",
       "264104               108  [great, lightweight, skirt, pair, well, pretti...  \n",
       "693418                78  [doe, not, look, like, pictur, at, all, -, nic...  \n",
       "466010               280  [size, veri, comfort, suit-, am, glad, ha, cup...  \n",
       "774815                22                                 [love, love, love]  "
      ]
     },
     "execution_count": 13,
     "metadata": {},
     "output_type": "execute_result"
    }
   ],
   "source": [
    "import nltk\n",
    "from nltk.corpus import stopwords\n",
    "from nltk.stem import PorterStemmer, WordNetLemmatizer\n",
    "\n",
    "# Download necessary resources\n",
    "nltk.download('punkt')\n",
    "nltk.download('wordnet')\n",
    "\n",
    "stemmer = PorterStemmer()\n",
    "# lemmatizer = WordNetLemmatizer()\n",
    "\n",
    "# Function to tokenize, stem, and lemmatize the review text\n",
    "def tokenize_stem_review(review, stopwords):\n",
    "    tokens = nltk.word_tokenize(review)\n",
    "    tokens = [t.lower() for t in tokens if t.lower() not in stopwords]\n",
    "    stemmed_tokens = [stemmer.stem(token) for token in tokens]\n",
    "    return stemmed_tokens\n",
    "\n",
    "# Apply tokenization and stemming to each review text and using filtered top_40_words\n",
    "df['reviewTokens'] = df.apply(lambda row: tokenize_stem_review(row['reviewText'], filtered_top_40_words), axis=1)\n",
    "\n",
    "df.head()\n"
   ]
  },
  {
   "cell_type": "code",
   "execution_count": 14,
   "metadata": {},
   "outputs": [
    {
     "name": "stdout",
     "output_type": "stream",
     "text": [
      "CSV file saved as '../../data/processed/tokenized_data_sample_with_custom_stopwords.csv'\n"
     ]
    }
   ],
   "source": [
    "# Save the new DataFrame as CSV\n",
    "new_csv_file_path = '../../data/processed/tokenized_data_sample_with_custom_stopwords.csv'\n",
    "\n",
    "df.to_csv(new_csv_file_path)\n",
    "\n",
    "# Confirm the CSV file has been saved\n",
    "print(f\"CSV file saved as '{new_csv_file_path}'\")\n"
   ]
  },
  {
   "cell_type": "markdown",
   "metadata": {},
   "source": [
    "## Vectorizing Textual Features"
   ]
  },
  {
   "cell_type": "code",
   "execution_count": 19,
   "metadata": {},
   "outputs": [],
   "source": [
    "from gensim.models import Word2Vec\n",
    "import pandas as pd\n",
    "import numpy as np\n",
    "\n",
    "tokenized_data = pd.read_csv('../../data/processed/tokenized_data_sample_with_custom_stopwords.csv')['reviewTokens']\n",
    "\n",
    "# Train the Word2Vec model\n",
    "vec_size = 100  # Dimensionality of the word vectors\n",
    "window = 5  # Maximum distance between the current and predicted word within a sentence\n",
    "min_count = 1  # Minimum frequency of a word to be considered for training\n",
    "workers = 4  # Number of threads to use while training\n",
    "\n",
    "model = Word2Vec(sentences=tokenized_data, vector_size=vec_size, window=window, min_count=min_count, workers=workers)\n",
    "\n",
    "\n",
    "word_vectors = []\n",
    "\n",
    "# Iterate through each tokenized sentence or document and retrieve word vectors\n",
    "for tokens in tokenized_data:\n",
    "    word_vectors.append(np.mean([model.wv[token] if token in model.wv else np.zeroes(vec_size) for token in tokens], axis=0))\n",
    "\n",
    "# Convert the list of word vectors into a NumPy array\n",
    "vectorized_features_with_custom_stopwords_word2vec = np.array(word_vectors)"
   ]
  },
  {
   "cell_type": "code",
   "execution_count": 20,
   "metadata": {},
   "outputs": [
    {
     "data": {
      "text/plain": [
       "50000"
      ]
     },
     "execution_count": 20,
     "metadata": {},
     "output_type": "execute_result"
    }
   ],
   "source": [
    "len(vectorized_features_with_custom_stopwords_word2vec)"
   ]
  },
  {
   "cell_type": "code",
   "execution_count": 21,
   "metadata": {},
   "outputs": [],
   "source": [
    "import numpy as np\n",
    "np.save('../../data/processed/sample_vectorized_features_with_custom_stopwords_word2vec.npy', vectorized_features_with_custom_stopwords_word2vec)\n"
   ]
  }
 ],
 "metadata": {
  "kernelspec": {
   "display_name": "Python 3",
   "language": "python",
   "name": "python3"
  },
  "language_info": {
   "codemirror_mode": {
    "name": "ipython",
    "version": 3
   },
   "file_extension": ".py",
   "mimetype": "text/x-python",
   "name": "python",
   "nbconvert_exporter": "python",
   "pygments_lexer": "ipython3",
   "version": "3.10.11"
  }
 },
 "nbformat": 4,
 "nbformat_minor": 2
}

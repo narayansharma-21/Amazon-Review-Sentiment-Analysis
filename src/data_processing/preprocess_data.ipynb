{
 "cells": [
  {
   "cell_type": "markdown",
   "metadata": {},
   "source": [
    "# Data Preprocessing\n",
    "\n",
    "The code within this notebook is a representation of the original pre-processing steps. This notebook entails using `NLTK`'s default corpus of stopwords as well as utilizing only the `Doc2Vec` model to produce the vectorized matrices as input for the models."
   ]
  },
  {
   "cell_type": "markdown",
   "metadata": {},
   "source": [
    "## Extract data into pandas dataframe"
   ]
  },
  {
   "cell_type": "markdown",
   "metadata": {},
   "source": [
    "Ensure that the `AMAZON_FASHION.json.gz` file has been downloaded and copied into this directory. See `README.md` for more information."
   ]
  },
  {
   "cell_type": "code",
   "execution_count": 4,
   "metadata": {},
   "outputs": [],
   "source": [
    "import pandas as pd\n",
    "import gzip\n",
    "import json\n",
    "\n",
    "def parse(path):\n",
    "  g = gzip.open(path, 'rb')\n",
    "  for l in g:\n",
    "    yield json.loads(l)\n",
    "\n",
    "def getDF(path):\n",
    "  df = {}\n",
    "  for i, d in enumerate(parse(path)):\n",
    "    df[i] = d\n",
    "  return pd.DataFrame.from_dict(df, orient='index')\n",
    "\n",
    "df = getDF('../../data/raw/AMAZON_FASHION.json.gz')"
   ]
  },
  {
   "cell_type": "code",
   "execution_count": 6,
   "metadata": {},
   "outputs": [
    {
     "data": {
      "text/html": [
       "<div>\n",
       "<style scoped>\n",
       "    .dataframe tbody tr th:only-of-type {\n",
       "        vertical-align: middle;\n",
       "    }\n",
       "\n",
       "    .dataframe tbody tr th {\n",
       "        vertical-align: top;\n",
       "    }\n",
       "\n",
       "    .dataframe thead th {\n",
       "        text-align: right;\n",
       "    }\n",
       "</style>\n",
       "<table border=\"1\" class=\"dataframe\">\n",
       "  <thead>\n",
       "    <tr style=\"text-align: right;\">\n",
       "      <th></th>\n",
       "      <th>reviewText</th>\n",
       "      <th>summary</th>\n",
       "      <th>overall</th>\n",
       "    </tr>\n",
       "  </thead>\n",
       "  <tbody>\n",
       "    <tr>\n",
       "      <th>0</th>\n",
       "      <td>Exactly what I needed.</td>\n",
       "      <td>perfect replacements!!</td>\n",
       "      <td>5.0</td>\n",
       "    </tr>\n",
       "    <tr>\n",
       "      <th>1</th>\n",
       "      <td>I agree with the other review, the opening is ...</td>\n",
       "      <td>I agree with the other review, the opening is ...</td>\n",
       "      <td>2.0</td>\n",
       "    </tr>\n",
       "    <tr>\n",
       "      <th>2</th>\n",
       "      <td>Love these... I am going to order another pack...</td>\n",
       "      <td>My New 'Friends' !!</td>\n",
       "      <td>4.0</td>\n",
       "    </tr>\n",
       "    <tr>\n",
       "      <th>3</th>\n",
       "      <td>too tiny an opening</td>\n",
       "      <td>Two Stars</td>\n",
       "      <td>2.0</td>\n",
       "    </tr>\n",
       "    <tr>\n",
       "      <th>4</th>\n",
       "      <td>Okay</td>\n",
       "      <td>Three Stars</td>\n",
       "      <td>3.0</td>\n",
       "    </tr>\n",
       "  </tbody>\n",
       "</table>\n",
       "</div>"
      ],
      "text/plain": [
       "                                          reviewText  \\\n",
       "0                             Exactly what I needed.   \n",
       "1  I agree with the other review, the opening is ...   \n",
       "2  Love these... I am going to order another pack...   \n",
       "3                                too tiny an opening   \n",
       "4                                               Okay   \n",
       "\n",
       "                                             summary  overall  \n",
       "0                             perfect replacements!!      5.0  \n",
       "1  I agree with the other review, the opening is ...      2.0  \n",
       "2                                My New 'Friends' !!      4.0  \n",
       "3                                          Two Stars      2.0  \n",
       "4                                        Three Stars      3.0  "
      ]
     },
     "execution_count": 6,
     "metadata": {},
     "output_type": "execute_result"
    }
   ],
   "source": [
    "# Remove duplicate reviews\n",
    "# Any review with the same reviewText, reviewerID, overall ranking is considered a duplicate\n",
    "df = df.drop_duplicates(subset=['reviewText', 'reviewerID', 'overall'])\n",
    "\n",
    "# Keep relevant columns\n",
    "df = df[['reviewText', 'summary', 'overall']]\n",
    "\n",
    "# Drop reviews with no reviewText since we are primarily interested in analyzing review text\n",
    "df = df.dropna(subset=['reviewText'])\n",
    "\n",
    "df.head()"
   ]
  },
  {
   "cell_type": "code",
   "execution_count": 7,
   "metadata": {},
   "outputs": [],
   "source": [
    "# Replace NaN values with empty strings in 'summary' column\n",
    "df['summary'].fillna('', inplace=True)\n"
   ]
  },
  {
   "cell_type": "code",
   "execution_count": 8,
   "metadata": {},
   "outputs": [
    {
     "name": "stdout",
     "output_type": "stream",
     "text": [
      "Columns with NaN values:\n",
      "reviewText    False\n",
      "summary       False\n",
      "overall       False\n",
      "dtype: bool\n"
     ]
    }
   ],
   "source": [
    "# Check for NaN values in each column\n",
    "nan_columns = df.isna().any()\n",
    "print(\"Columns with NaN values:\")\n",
    "print(nan_columns)"
   ]
  },
  {
   "cell_type": "markdown",
   "metadata": {},
   "source": [
    "## EDA"
   ]
  },
  {
   "cell_type": "markdown",
   "metadata": {},
   "source": [
    "Distribution of star ratings"
   ]
  },
  {
   "cell_type": "code",
   "execution_count": 9,
   "metadata": {},
   "outputs": [
    {
     "data": {
      "text/plain": [
       "<Axes: >"
      ]
     },
     "execution_count": 9,
     "metadata": {},
     "output_type": "execute_result"
    },
    {
     "data": {
      "image/png": "[encoded data removed]",
      "text/plain": [
       "<Figure size 640x480 with 1 Axes>"
      ]
     },
     "metadata": {},
     "output_type": "display_data"
    }
   ],
   "source": [
    "df['overall'].hist(bins=5)"
   ]
  },
  {
   "cell_type": "markdown",
   "metadata": {},
   "source": [
    "Star ratings skew left with a clear peak for 5 stars. To avoid bias, we could consider sampling to achieve more equally distributed training data."
   ]
  },
  {
   "cell_type": "code",
   "execution_count": 10,
   "metadata": {},
   "outputs": [
    {
     "data": {
      "text/plain": [
       "count    851740.000000\n",
       "mean        147.683403\n",
       "std         202.048854\n",
       "min           1.000000\n",
       "25%          36.000000\n",
       "50%          88.000000\n",
       "75%         180.000000\n",
       "max       10565.000000\n",
       "Name: reviewTextLength, dtype: float64"
      ]
     },
     "execution_count": 10,
     "metadata": {},
     "output_type": "execute_result"
    }
   ],
   "source": [
    "df['reviewTextLength'] = df['reviewText'].str.len()\n",
    "df['reviewTextLength'].describe()"
   ]
  },
  {
   "cell_type": "code",
   "execution_count": 11,
   "metadata": {},
   "outputs": [
    {
     "name": "stdout",
     "output_type": "stream",
     "text": [
      "reviewTextLength\n",
      "1         154\n",
      "2        1739\n",
      "3         594\n",
      "4        7743\n",
      "5        4941\n",
      "         ... \n",
      "6543        1\n",
      "6688        1\n",
      "7398        1\n",
      "9461        1\n",
      "10565       1\n",
      "Name: count, Length: 2582, dtype: int64\n"
     ]
    },
    {
     "data": {
      "text/plain": [
       "<Axes: >"
      ]
     },
     "execution_count": 11,
     "metadata": {},
     "output_type": "execute_result"
    },
    {
     "data": {
      "image/png": "[encoded data removed]",
      "text/plain": [
       "<Figure size 640x480 with 1 Axes>"
      ]
     },
     "metadata": {},
     "output_type": "display_data"
    }
   ],
   "source": [
    "# look at distribution of reviewTextLength\n",
    "print(df['reviewTextLength'].value_counts().sort_index())\n",
    "df['reviewTextLength'].hist(bins=100)"
   ]
  },
  {
   "cell_type": "markdown",
   "metadata": {},
   "source": [
    "This shows that review length skews right with many large outliers."
   ]
  },
  {
   "cell_type": "markdown",
   "metadata": {},
   "source": [
    "## Tokenization"
   ]
  },
  {
   "cell_type": "code",
   "execution_count": 12,
   "metadata": {},
   "outputs": [
    {
     "name": "stderr",
     "output_type": "stream",
     "text": [
      "[nltk_data] Downloading package punkt to\n",
      "[nltk_data]     /Users/kingnutmegs/nltk_data...\n",
      "[nltk_data]   Package punkt is already up-to-date!\n",
      "[nltk_data] Downloading package wordnet to\n",
      "[nltk_data]     /Users/kingnutmegs/nltk_data...\n",
      "[nltk_data]   Package wordnet is already up-to-date!\n"
     ]
    },
    {
     "data": {
      "text/html": [
       "<div>\n",
       "<style scoped>\n",
       "    .dataframe tbody tr th:only-of-type {\n",
       "        vertical-align: middle;\n",
       "    }\n",
       "\n",
       "    .dataframe tbody tr th {\n",
       "        vertical-align: top;\n",
       "    }\n",
       "\n",
       "    .dataframe thead th {\n",
       "        text-align: right;\n",
       "    }\n",
       "</style>\n",
       "<table border=\"1\" class=\"dataframe\">\n",
       "  <thead>\n",
       "    <tr style=\"text-align: right;\">\n",
       "      <th></th>\n",
       "      <th>reviewText</th>\n",
       "      <th>summary</th>\n",
       "      <th>overall</th>\n",
       "      <th>reviewTextLength</th>\n",
       "      <th>reviewTokens</th>\n",
       "      <th>summaryTokens</th>\n",
       "    </tr>\n",
       "  </thead>\n",
       "  <tbody>\n",
       "    <tr>\n",
       "      <th>0</th>\n",
       "      <td>Exactly what I needed.</td>\n",
       "      <td>perfect replacements!!</td>\n",
       "      <td>5.0</td>\n",
       "      <td>22</td>\n",
       "      <td>[exactli, need, .]</td>\n",
       "      <td>[perfect, replac, !, !]</td>\n",
       "    </tr>\n",
       "    <tr>\n",
       "      <th>1</th>\n",
       "      <td>I agree with the other review, the opening is ...</td>\n",
       "      <td>I agree with the other review, the opening is ...</td>\n",
       "      <td>2.0</td>\n",
       "      <td>239</td>\n",
       "      <td>[agre, review, ,, open, small, ., almost, bent...</td>\n",
       "      <td>[agre, review, ,, open, ...]</td>\n",
       "    </tr>\n",
       "    <tr>\n",
       "      <th>2</th>\n",
       "      <td>Love these... I am going to order another pack...</td>\n",
       "      <td>My New 'Friends' !!</td>\n",
       "      <td>4.0</td>\n",
       "      <td>244</td>\n",
       "      <td>[love, ..., go, order, anoth, pack, keep, work...</td>\n",
       "      <td>[new, 'friend, ', !, !]</td>\n",
       "    </tr>\n",
       "    <tr>\n",
       "      <th>3</th>\n",
       "      <td>too tiny an opening</td>\n",
       "      <td>Two Stars</td>\n",
       "      <td>2.0</td>\n",
       "      <td>19</td>\n",
       "      <td>[tini, open]</td>\n",
       "      <td>[two, star]</td>\n",
       "    </tr>\n",
       "    <tr>\n",
       "      <th>4</th>\n",
       "      <td>Okay</td>\n",
       "      <td>Three Stars</td>\n",
       "      <td>3.0</td>\n",
       "      <td>4</td>\n",
       "      <td>[okay]</td>\n",
       "      <td>[three, star]</td>\n",
       "    </tr>\n",
       "  </tbody>\n",
       "</table>\n",
       "</div>"
      ],
      "text/plain": [
       "                                          reviewText  \\\n",
       "0                             Exactly what I needed.   \n",
       "1  I agree with the other review, the opening is ...   \n",
       "2  Love these... I am going to order another pack...   \n",
       "3                                too tiny an opening   \n",
       "4                                               Okay   \n",
       "\n",
       "                                             summary  overall  \\\n",
       "0                             perfect replacements!!      5.0   \n",
       "1  I agree with the other review, the opening is ...      2.0   \n",
       "2                                My New 'Friends' !!      4.0   \n",
       "3                                          Two Stars      2.0   \n",
       "4                                        Three Stars      3.0   \n",
       "\n",
       "   reviewTextLength                                       reviewTokens  \\\n",
       "0                22                                 [exactli, need, .]   \n",
       "1               239  [agre, review, ,, open, small, ., almost, bent...   \n",
       "2               244  [love, ..., go, order, anoth, pack, keep, work...   \n",
       "3                19                                       [tini, open]   \n",
       "4                 4                                             [okay]   \n",
       "\n",
       "                  summaryTokens  \n",
       "0       [perfect, replac, !, !]  \n",
       "1  [agre, review, ,, open, ...]  \n",
       "2       [new, 'friend, ', !, !]  \n",
       "3                   [two, star]  \n",
       "4                 [three, star]  "
      ]
     },
     "execution_count": 12,
     "metadata": {},
     "output_type": "execute_result"
    }
   ],
   "source": [
    "import nltk\n",
    "from nltk.corpus import stopwords\n",
    "from nltk.stem import PorterStemmer, WordNetLemmatizer\n",
    "\n",
    "# Download necessary resources\n",
    "nltk.download('punkt')\n",
    "nltk.download('wordnet')\n",
    "\n",
    "stemmer = PorterStemmer()\n",
    "lemmatizer = WordNetLemmatizer()\n",
    "\n",
    "# Function to tokenize, stem, and lemmatize the review text\n",
    "def tokenize_stem_lemmatize_review(review, stopwords):\n",
    "    tokens = nltk.word_tokenize(review)\n",
    "    tokens = [t.lower() for t in tokens if t.lower() not in stopwords]\n",
    "    stemmed_tokens = [stemmer.stem(token) for token in tokens]\n",
    "    lemmatized_tokens = [lemmatizer.lemmatize(token) for token in stemmed_tokens]\n",
    "    return lemmatized_tokens\n",
    "\n",
    "# Define stopwords\n",
    "stopwords = stopwords.words('english')\n",
    "\n",
    "# Apply tokenization, stemming, and lemmatization to each review text\n",
    "df['reviewTokens'] = df.apply(lambda row: tokenize_stem_lemmatize_review(row['reviewText'], stopwords), axis=1)\n",
    "df['summaryTokens'] = df.apply(lambda row: tokenize_stem_lemmatize_review(row['summary'], stopwords), axis=1)\n",
    "\n",
    "df.head()\n"
   ]
  },
  {
   "cell_type": "code",
   "execution_count": 13,
   "metadata": {},
   "outputs": [],
   "source": [
    "# Check for NaN values in each column and replace them\n",
    "df['reviewText'].fillna('', inplace=True)\n",
    "df['summary'].fillna('',inplace=True)"
   ]
  },
  {
   "cell_type": "code",
   "execution_count": 14,
   "metadata": {},
   "outputs": [
    {
     "name": "stdout",
     "output_type": "stream",
     "text": [
      "Columns with NaN values:\n",
      "reviewText          False\n",
      "summary             False\n",
      "overall             False\n",
      "reviewTextLength    False\n",
      "reviewTokens        False\n",
      "summaryTokens       False\n",
      "dtype: bool\n"
     ]
    }
   ],
   "source": [
    "nan_columns = df.isna().any()\n",
    "print(\"Columns with NaN values:\")\n",
    "print(nan_columns)"
   ]
  },
  {
   "cell_type": "code",
   "execution_count": 15,
   "metadata": {},
   "outputs": [
    {
     "name": "stdout",
     "output_type": "stream",
     "text": [
      "CSV file saved as '../../data/processed/tokenized_data.csv'\n"
     ]
    }
   ],
   "source": [
    "# Save the new DataFrame as CSV\n",
    "new_csv_file_path = '../../data/processed/tokenized_data.csv'\n",
    "\n",
    "df.to_csv(new_csv_file_path)\n",
    "\n",
    "# Confirm the CSV file has been saved\n",
    "print(f\"CSV file saved as '{new_csv_file_path}'\")\n"
   ]
  },
  {
   "cell_type": "code",
   "execution_count": 16,
   "metadata": {},
   "outputs": [
    {
     "name": "stdout",
     "output_type": "stream",
     "text": [
      "Columns with NaN values:\n",
      "Unnamed: 0          False\n",
      "reviewText           True\n",
      "summary              True\n",
      "overall             False\n",
      "reviewTextLength    False\n",
      "reviewTokens        False\n",
      "summaryTokens       False\n",
      "dtype: bool\n"
     ]
    }
   ],
   "source": [
    "df_new = pd.read_csv('../../data/processed/tokenized_data.csv')\n",
    "nan_columns = df_new.isna().any()\n",
    "\n",
    "# TODO: For some reason saving the NaN values even though there are none present before saving\n",
    "print(\"Columns with NaN values:\")\n",
    "print(nan_columns)"
   ]
  },
  {
   "cell_type": "markdown",
   "metadata": {},
   "source": [
    "## Vectorizing Textual Features"
   ]
  },
  {
   "cell_type": "code",
   "execution_count": 21,
   "metadata": {},
   "outputs": [],
   "source": [
    "from gensim.models.doc2vec import Doc2Vec, TaggedDocument\n",
    "from nltk.tokenize import word_tokenize\n",
    "import pandas as pd\n",
    "\n",
    "\n",
    "df['reviewText'].fillna('', inplace=True)\n",
    "df['summary'].fillna('',inplace=True)\n",
    "\n",
    "# Concatenate 'reviewTokens' and 'summaryTokens' for each row into single feature\n",
    "tokenized_data = [row['reviewTokens'] + row['summaryTokens'] for _, row in df.iterrows()]\n",
    "\n",
    "# Tag the documents\n",
    "tagged_data = [TaggedDocument(words=doc, tags=[str(i)]) for i, doc in enumerate(tokenized_data)]\n",
    "\n",
    "# Train the Doc2Vec model\n",
    "max_epochs = 100\n",
    "vec_size = 20\n",
    "alpha = 0.025\n",
    "\n",
    "model = Doc2Vec(vector_size=vec_size, alpha=alpha, min_alpha=0.00025, min_count=1, dm=1)\n",
    "model.build_vocab(tagged_data)\n",
    "\n",
    "for epoch in range(max_epochs):\n",
    "    model.train(tagged_data, total_examples=model.corpus_count, epochs=model.epochs)\n",
    "    model.alpha -= 0.0002  # decrease the learning rate\n",
    "    model.min_alpha = model.alpha  # fix the learning rate, no decay\n",
    "\n",
    "# Vectorize the textual features\n",
    "vectorized_features = [model.infer_vector(doc.words) for doc in tagged_data]\n"
   ]
  },
  {
   "cell_type": "code",
   "execution_count": null,
   "metadata": {},
   "outputs": [],
   "source": [
    "import numpy as np\n",
    "\n",
    "# Convert the list to a NumPy array\n",
    "vectorized_features_array = np.array(vectorized_features)\n",
    "\n",
    "# Save the NumPy array\n",
    "np.save('../../data/processed/vectorized_features_with_summary_tokens.npy', vectorized_features_array)\n"
   ]
  }
 ],
 "metadata": {
  "kernelspec": {
   "display_name": "Python 3",
   "language": "python",
   "name": "python3"
  },
  "language_info": {
   "codemirror_mode": {
    "name": "ipython",
    "version": 3
   },
   "file_extension": ".py",
   "mimetype": "text/x-python",
   "name": "python",
   "nbconvert_exporter": "python",
   "pygments_lexer": "ipython3",
   "version": "3.8.13"
  }
 },
 "nbformat": 4,
 "nbformat_minor": 2
}

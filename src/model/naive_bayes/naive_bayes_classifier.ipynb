{
 "cells": [
  {
   "cell_type": "markdown",
   "metadata": {},
   "source": [
    "## Naive Bayes"
   ]
  },
  {
   "cell_type": "markdown",
   "metadata": {},
   "source": [
    "#### Bag of Words"
   ]
  },
  {
   "cell_type": "code",
   "execution_count": 1,
   "metadata": {},
   "outputs": [
    {
     "name": "stdout",
     "output_type": "stream",
     "text": [
      "              precision    recall  f1-score   support\n",
      "\n",
      "         1.0       0.70      0.78      0.74      1236\n",
      "         2.0       0.50      0.47      0.48       759\n",
      "         3.0       0.51      0.56      0.54      1082\n",
      "         4.0       0.59      0.52      0.55      1669\n",
      "         5.0       0.88      0.89      0.88      5254\n",
      "\n",
      "    accuracy                           0.74     10000\n",
      "   macro avg       0.64      0.64      0.64     10000\n",
      "weighted avg       0.74      0.74      0.74     10000\n",
      "\n"
     ]
    }
   ],
   "source": [
    "import numpy as np\n",
    "import pandas as pd\n",
    "from sklearn.model_selection import train_test_split\n",
    "from sklearn.feature_extraction.text import CountVectorizer\n",
    "from sklearn.svm import SVC\n",
    "from sklearn.metrics import accuracy_score, classification_report\n",
    "\n",
    "df = pd.read_csv('../../../data/processed/tokenized_data_sample_with_custom_stopwords.csv')\n",
    "X_train, X_test, y_train, y_test = train_test_split(df['reviewTextTotal'], df['overall'], test_size=0.2, random_state=42)\n",
    "\n",
    "X_train.fillna('', inplace=True)\n",
    "X_test.fillna('', inplace=True)\n",
    "\n",
    "# Initialize and fit the CountVectorizer to transform text data into bag-of-words vectors\n",
    "vectorizer = CountVectorizer()\n",
    "\n",
    "X_train_bow = vectorizer.fit_transform(X_train)\n",
    "X_test_bow = vectorizer.transform(X_test)\n",
    "\n",
    "# Initialize and train the SVM model\n",
    "model = SVC(kernel='linear')  \n",
    "model.fit(X_train_bow, y_train)\n",
    "\n",
    "# Predict the target variable for test data\n",
    "y_pred = model.predict(X_test_bow)\n",
    "\n",
    "# Evaluate the model\n",
    "print(classification_report(y_test, y_pred))\n"
   ]
  },
  {
   "cell_type": "markdown",
   "metadata": {},
   "source": [
    "#### Word2Vec"
   ]
  },
  {
   "cell_type": "code",
   "execution_count": 1,
   "metadata": {},
   "outputs": [
    {
     "name": "stdout",
     "output_type": "stream",
     "text": [
      "              precision    recall  f1-score   support\n",
      "\n",
      "         1.0       0.75      0.35      0.48      1236\n",
      "         2.0       0.84      0.19      0.31       759\n",
      "         3.0       0.69      0.25      0.37      1082\n",
      "         4.0       0.86      0.19      0.31      1669\n",
      "         5.0       0.61      0.99      0.75      5254\n",
      "\n",
      "    accuracy                           0.63     10000\n",
      "   macro avg       0.75      0.39      0.45     10000\n",
      "weighted avg       0.70      0.63      0.57     10000\n",
      "\n"
     ]
    }
   ],
   "source": [
    "import numpy as np\n",
    "import pandas as pd\n",
    "from sklearn.model_selection import train_test_split\n",
    "from sklearn.feature_extraction.text import CountVectorizer\n",
    "from sklearn.svm import SVC\n",
    "from sklearn.metrics import accuracy_score, classification_report\n",
    "\n",
    "# Load your CSV data into a pandas DataFrame\n",
    "df = pd.read_csv('../../../data/processed/tokenized_data_sample_with_custom_stopwords.csv')\n",
    "\n",
    "# Load the vectorized features from the .npy file\n",
    "vectorized_features = np.load('../../../data/processed/sample_vectorized_features_with_custom_stopwords_word2vec.npy')\n",
    "\n",
    "feature_vectors = pd.DataFrame(vectorized_features)\n",
    "\n",
    "\n",
    "feature_vectors.columns = [f'vec_feature_{i}' for i in range(feature_vectors.shape[1])]\n",
    "\n",
    "X = feature_vectors # Feature vector\n",
    "y = df['overall']  # Target variable\n",
    "\n",
    "# Split the data into training and testing sets\n",
    "X_train, X_test, y_train, y_test = train_test_split(X, y, test_size=0.2, random_state=42)\n",
    "\n",
    "# Initialize and train the SVM model\n",
    "model = SVC(kernel='linear')  \n",
    "model.fit(X_train, y_train)\n",
    "\n",
    "# Predict the target variable for test data\n",
    "y_pred = model.predict(X_test)\n",
    "\n",
    "# Evaluate the model\n",
    "print(classification_report(y_test, y_pred))\n"
   ]
  }
 ],
 "metadata": {
  "kernelspec": {
   "display_name": "venv",
   "language": "python",
   "name": "python3"
  },
  "language_info": {
   "codemirror_mode": {
    "name": "ipython",
    "version": 3
   },
   "file_extension": ".py",
   "mimetype": "text/x-python",
   "name": "python",
   "nbconvert_exporter": "python",
   "pygments_lexer": "ipython3",
   "version": "3.10.11"
  }
 },
 "nbformat": 4,
 "nbformat_minor": 2
}

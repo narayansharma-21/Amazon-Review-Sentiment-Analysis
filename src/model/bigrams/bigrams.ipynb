{
 "cells": [
  {
   "cell_type": "code",
   "execution_count": null,
   "metadata": {},
   "outputs": [],
   "source": [
    "import pandas as pd\n",
    "from sklearn.feature_extraction.text import CountVectorizer\n",
    "from sklearn.model_selection import train_test_split\n",
    "from sklearn.ensemble import RandomForestClassifier\n",
    "from sklearn.metrics import classification_report\n",
    "\n",
    "# Load your CSV data into a pandas DataFrame\n",
    "df = pd.read_csv('../../../data/processed/tokenized_data.csv')\n",
    "\n",
    "# Preprocessing (tokenization, removing stopwords, etc.) if needed\n",
    "\n",
    "# Split the data into training and testing sets\n",
    "X_train, X_test, y_train, y_test = train_test_split(df['reviewText'], df['overall'], test_size=0.2, random_state=42)\n",
    "\n",
    "# Initialize the CountVectorizer for bigrams only\n",
    "ngram_vectorizer = CountVectorizer(ngram_range=(2, 2))  # Only bigrams\n",
    "\n",
    "# It's important to fill NaN values to avoid issues during the vectorization\n",
    "X_train.fillna('', inplace=True)\n",
    "\n",
    "# Fit the vectorizer on the training data and transform it into a document-term matrix\n",
    "X_train_ngrams = ngram_vectorizer.fit_transform(X_train)\n",
    "\n",
    "# Transform the test data using the same vectorizer\n",
    "X_test.fillna('', inplace=True)\n",
    "X_test_ngrams = ngram_vectorizer.transform(X_test)\n",
    "\n",
    "# Initialize and train the Random Forest classifier\n",
    "rf_model = RandomForestClassifier()\n",
    "rf_model.fit(X_train_ngrams, y_train)\n",
    "\n",
    "# Evaluate the model\n",
    "y_pred = rf_model.predict(X_test_ngrams)\n",
    "print(classification_report(y_test, y_pred))"
   ]
  }
 ],
 "metadata": {
  "kernelspec": {
   "display_name": "ds",
   "language": "python",
   "name": "python3"
  },
  "language_info": {
   "name": "python",
   "version": "3.9.19"
  }
 },
 "nbformat": 4,
 "nbformat_minor": 2
}

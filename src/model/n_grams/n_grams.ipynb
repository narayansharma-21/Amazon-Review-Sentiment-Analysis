{
 "cells": [
  {
   "cell_type": "markdown",
   "metadata": {},
   "source": [
    "## N-Grams with only ReviewText tokens "
   ]
  },
  {
   "cell_type": "code",
   "execution_count": 3,
   "metadata": {},
   "outputs": [],
   "source": [
    "import pandas as pd\n",
    "from sklearn.feature_extraction.text import CountVectorizer\n",
    "from sklearn.model_selection import train_test_split\n",
    "from sklearn.ensemble import RandomForestClassifier\n",
    "from sklearn.metrics import classification_report\n",
    "\n",
    "# Load your CSV data into a pandas DataFrame\n",
    "df = pd.read_csv('../../../data/processed/tokenized_data.csv')\n",
    "\n",
    "# Preprocessing (tokenization, removing stopwords, etc.) if needed\n",
    "\n",
    "# Split the data into training and testing sets\n",
    "X_train, X_test, y_train, y_test = train_test_split(df['reviewText'], df['overall'], test_size=0.2, random_state=42)\n",
    "\n",
    "# Initialize the CountVectorizer with N-grams\n",
    "ngram_vectorizer = CountVectorizer(ngram_range=(1, 2))  # Example with unigrams and bigrams\n",
    "\n",
    "X_train.fillna('', inplace=True)\n",
    "\n",
    "# Fit the vectorizer on the training data and transform it into a document-term matrix\n",
    "X_train_ngrams = ngram_vectorizer.fit_transform(X_train)\n",
    "\n",
    "X_test.fillna('', inplace=True)\n",
    "\n",
    "# Transform the test data using the same vectorizer\n",
    "X_test_ngrams = ngram_vectorizer.transform(X_test)\n",
    "\n",
    "# Initialize and train the Random Forest classifier\n",
    "rf_model = RandomForestClassifier()\n",
    "rf_model.fit(X_train_ngrams, y_train)\n",
    "\n",
    "# Evaluate the model\n",
    "y_pred = rf_model.predict(X_test_ngrams)\n",
    "print(classification_report(y_test, y_pred))\n",
    "\n"
   ]
  },
  {
   "cell_type": "code",
   "execution_count": null,
   "metadata": {},
   "outputs": [],
   "source": [
    "import pickle\n",
    "\n",
    "# Assuming 'model' is the object you want to save\n",
    "with open('n_grams.pkl', 'wb') as file:\n",
    "    pickle.dump(rf_model, file)\n"
   ]
  }
 ],
 "metadata": {
  "kernelspec": {
   "display_name": "venv",
   "language": "python",
   "name": "python3"
  },
  "language_info": {
   "codemirror_mode": {
    "name": "ipython",
    "version": 3
   },
   "file_extension": ".py",
   "mimetype": "text/x-python",
   "name": "python",
   "nbconvert_exporter": "python",
   "pygments_lexer": "ipython3",
   "version": "3.8.13"
  }
 },
 "nbformat": 4,
 "nbformat_minor": 2
}

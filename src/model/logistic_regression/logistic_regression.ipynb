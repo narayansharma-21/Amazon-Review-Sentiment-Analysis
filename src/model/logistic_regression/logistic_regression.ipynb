{
 "cells": [
  {
   "cell_type": "markdown",
   "metadata": {},
   "source": [
    "## Logistic Regression"
   ]
  },
  {
   "cell_type": "code",
   "execution_count": 2,
   "metadata": {},
   "outputs": [],
   "source": [
    "import pickle\n",
    "import numpy as np\n",
    "import pandas as pd\n",
    "from sklearn.model_selection import train_test_split\n",
    "from sklearn.linear_model import LogisticRegression\n",
    "from sklearn.metrics import classification_report\n",
    "\n",
    "# Load your CSV data into a pandas DataFrame\n",
    "df = pd.read_csv('../../../data/processed/tokenized_data.csv')\n",
    "\n",
    "# Load the vectorized features from the .npy file\n",
    "vectorized_features = np.load('../../../data/processed/vectorized_features_with_summary_tokens.npy')\n",
    "\n",
    "feature_vectors = pd.DataFrame(vectorized_features)\n",
    "\n",
    "\n",
    "feature_vectors.columns = [f'vec_feature_{i}' for i in range(feature_vectors.shape[1])]\n",
    "\n",
    "X = feature_vectors # Feature vector\n",
    "y = df['overall']  # Target variable\n",
    "\n",
    "# Split the data into training and testing sets\n",
    "X_train, X_test, y_train, y_test = train_test_split(X, y, test_size=0.2, random_state=42)\n",
    "\n",
    "# Initialize and train the logistic regression model\n",
    "model = LogisticRegression()\n",
    "model.fit(X_train, y_train)\n",
    "\n",
    "# Predict the target variable for the test set\n",
    "y_pred = model.predict(X_test)\n",
    "\n",
    "# Save the trained model to a file\n",
    "with open('pickle_model/logistic_regression_model.pkl', 'wb') as file:\n",
    "    pickle.dump(model, file)"
   ]
  },
  {
   "cell_type": "code",
   "execution_count": 3,
   "metadata": {},
   "outputs": [
    {
     "ename": "NameError",
     "evalue": "name 'pickle' is not defined",
     "output_type": "error",
     "traceback": [
      "\u001b[0;31m---------------------------------------------------------------------------\u001b[0m",
      "\u001b[0;31mNameError\u001b[0m                                 Traceback (most recent call last)",
      "Cell \u001b[0;32mIn[3], line 3\u001b[0m\n\u001b[1;32m      1\u001b[0m \u001b[38;5;66;03m# Load the trained logistic regression model from the file\u001b[39;00m\n\u001b[1;32m      2\u001b[0m \u001b[38;5;28;01mwith\u001b[39;00m \u001b[38;5;28mopen\u001b[39m(\u001b[38;5;124m'\u001b[39m\u001b[38;5;124mpickle_model/logistic_regression_model.pkl\u001b[39m\u001b[38;5;124m'\u001b[39m, \u001b[38;5;124m'\u001b[39m\u001b[38;5;124mrb\u001b[39m\u001b[38;5;124m'\u001b[39m) \u001b[38;5;28;01mas\u001b[39;00m file:\n\u001b[0;32m----> 3\u001b[0m     model \u001b[38;5;241m=\u001b[39m \u001b[43mpickle\u001b[49m\u001b[38;5;241m.\u001b[39mload(file)\n\u001b[1;32m      5\u001b[0m \u001b[38;5;66;03m# Calculate classification report\u001b[39;00m\n\u001b[1;32m      6\u001b[0m \u001b[38;5;28mprint\u001b[39m(classification_report(y_test, y_pred))\n",
      "\u001b[0;31mNameError\u001b[0m: name 'pickle' is not defined"
     ]
    }
   ],
   "source": [
    "# Load the trained logistic regression model from the file\n",
    "with open('pickle_model/logistic_regression_model.pkl', 'rb') as file:\n",
    "    model = pickle.load(file)\n",
    "\n",
    "# Calculate classification report\n",
    "print(classification_report(y_test, y_pred))"
   ]
  },
  {
   "cell_type": "markdown",
   "metadata": {},
   "source": [
    "## Logistic Regression (w/ class weighting)"
   ]
  },
  {
   "cell_type": "code",
   "execution_count": 4,
   "metadata": {},
   "outputs": [],
   "source": [
    "from sklearn.utils.class_weight import compute_class_weight\n",
    "\n",
    "class_weights = compute_class_weight(\n",
    "                                        class_weight = \"balanced\",\n",
    "                                        classes = np.unique(y_train),\n",
    "                                        y = y_train                                                    \n",
    "                                    )\n",
    "class_weights = dict(zip(np.unique(y_train), class_weights))\n",
    "\n",
    "# Initialize and train the logistic regression model with class weights\n",
    "model = LogisticRegression(class_weight=class_weights)\n",
    "model.fit(X_train, y_train)\n",
    "\n",
    "y_pred4 = model.predict(X_train)\n",
    "\n",
    "# Save the trained model to a file\n",
    "with open('pickle_model/logistic_regression_model_with_class_weights.pkl', 'wb') as file:\n",
    "    pickle.dump(model, file)\n"
   ]
  },
  {
   "cell_type": "code",
   "execution_count": 5,
   "metadata": {},
   "outputs": [
    {
     "name": "stdout",
     "output_type": "stream",
     "text": [
      "Accuracy: 0.5918061849860285\n"
     ]
    }
   ],
   "source": [
    "# Load the trained logistic regression model from the file\n",
    "with open('pickle_model/logistic_regression_model_with_class_weights.pkl', 'rb') as file:\n",
    "    model = pickle.load(file)\n",
    "\n",
    "# Evaluate the model\n",
    "accuracy = model.score(X_test, y_test)\n",
    "print(\"Accuracy:\", accuracy)"
   ]
  },
  {
   "cell_type": "markdown",
   "metadata": {},
   "source": [
    "## Logistic Regression (w/ undersampling the majority class)"
   ]
  },
  {
   "cell_type": "code",
   "execution_count": 6,
   "metadata": {},
   "outputs": [],
   "source": [
    "from imblearn.under_sampling import RandomUnderSampler\n",
    "\n",
    "# Undersample the majority class (5-star reviews) automatically\n",
    "undersampler = RandomUnderSampler(sampling_strategy='auto', random_state=42)\n",
    "X_train_resampled, y_train_resampled = undersampler.fit_resample(X_train, y_train)\n",
    "\n",
    "# Initialize and train the logistic regression model\n",
    "model = LogisticRegression()\n",
    "model.fit(X_train_resampled, y_train_resampled)\n",
    "\n",
    "# Predict the target variable for the test set\n",
    "y_pred2 = model.predict(X_test)\n",
    "\n",
    "# Save the trained model to a file\n",
    "with open('pickle_model/logistic_regression_model_with_undersampling.pkl', 'wb') as file:\n",
    "    pickle.dump(model, file)"
   ]
  },
  {
   "cell_type": "code",
   "execution_count": 7,
   "metadata": {},
   "outputs": [
    {
     "name": "stdout",
     "output_type": "stream",
     "text": [
      "              precision    recall  f1-score   support\n",
      "\n",
      "         1.0       0.50      0.58      0.54     20917\n",
      "         2.0       0.27      0.30      0.29     12765\n",
      "         3.0       0.36      0.37      0.37     19019\n",
      "         4.0       0.40      0.49      0.44     28682\n",
      "         5.0       0.82      0.72      0.77     88965\n",
      "\n",
      "    accuracy                           0.59    170348\n",
      "   macro avg       0.47      0.49      0.48    170348\n",
      "weighted avg       0.62      0.59      0.60    170348\n",
      "\n"
     ]
    }
   ],
   "source": [
    "# Load the trained logistic regression model from the file\n",
    "with open('pickle_model/logistic_regression_model_with_undersampling.pkl', 'rb') as file:\n",
    "    model = pickle.load(file)\n",
    "\n",
    "print(classification_report(y_test, y_pred2))"
   ]
  },
  {
   "cell_type": "markdown",
   "metadata": {},
   "source": [
    "## Logistic Regression (w/ oversampling minority classes)"
   ]
  },
  {
   "cell_type": "code",
   "execution_count": 20,
   "metadata": {},
   "outputs": [],
   "source": [
    "from imblearn.over_sampling import RandomOverSampler\n",
    "\n",
    "# Oversample the minority classes (1 to 4-star reviews) automatically\n",
    "oversampler = RandomOverSampler(sampling_strategy='auto', random_state=42)\n",
    "X_train_resampled, y_train_resampled = oversampler.fit_resample(X_train, y_train)\n",
    "\n",
    "# Initialize and train the logistic regression model\n",
    "model = LogisticRegression()\n",
    "model.fit(X_train_resampled, y_train_resampled)\n",
    "\n",
    "# Predict the target variable for the test set\n",
    "y_pred3 = model.predict(X_test)\n",
    "\n",
    "# Save the trained model to a file\n",
    "with open('pickle_model/logistic_regression_model_with_oversampling.pkl', 'wb') as file:\n",
    "    pickle.dump(model, file)\n"
   ]
  },
  {
   "cell_type": "code",
   "execution_count": 22,
   "metadata": {},
   "outputs": [
    {
     "name": "stdout",
     "output_type": "stream",
     "text": [
      "              precision    recall  f1-score   support\n",
      "\n",
      "         1.0       0.38      0.53      0.44     20917\n",
      "         2.0       0.19      0.18      0.19     12765\n",
      "         3.0       0.22      0.23      0.23     19019\n",
      "         4.0       0.27      0.28      0.27     28682\n",
      "         5.0       0.73      0.65      0.69     88965\n",
      "\n",
      "    accuracy                           0.49    170348\n",
      "   macro avg       0.36      0.37      0.36    170348\n",
      "weighted avg       0.51      0.49      0.50    170348\n",
      "\n"
     ]
    }
   ],
   "source": [
    "# Load the trained logistic regression model from the file\n",
    "with open('pickle_model/logistic_regression_model_with_oversampling.pkl', 'rb') as file:\n",
    "    model = pickle.load(file)\n",
    "\n",
    "print(classification_report(y_test, y_pred3))"
   ]
  },
  {
   "cell_type": "markdown",
   "metadata": {},
   "source": [
    "## Logistic Regression (w/ SMOTE sampling technique)"
   ]
  },
  {
   "cell_type": "code",
   "execution_count": 8,
   "metadata": {},
   "outputs": [],
   "source": [
    "from imblearn.over_sampling import SMOTE\n",
    "\n",
    "# Apply SMOTE to the training data\n",
    "smote = SMOTE(random_state=42)\n",
    "X_train_resampled, y_train_resampled = smote.fit_resample(X_train, y_train)\n",
    "\n",
    "# Initialize and train the logistic regression model\n",
    "model = LogisticRegression()\n",
    "model.fit(X_train_resampled, y_train_resampled)\n",
    "\n",
    "# Predict the target variable for the test set\n",
    "y_pred = model.predict(X_test)\n",
    "\n",
    "# Save the trained model to a file\n",
    "with open('pickle_model/logistic_regression_model_with_SMOTE.pkl', 'wb') as file:\n",
    "    pickle.dump(model, file)"
   ]
  },
  {
   "cell_type": "code",
   "execution_count": 9,
   "metadata": {},
   "outputs": [
    {
     "name": "stdout",
     "output_type": "stream",
     "text": [
      "              precision    recall  f1-score   support\n",
      "\n",
      "         1.0       0.49      0.59      0.53     20917\n",
      "         2.0       0.28      0.31      0.29     12765\n",
      "         3.0       0.37      0.38      0.37     19019\n",
      "         4.0       0.41      0.49      0.45     28682\n",
      "         5.0       0.83      0.71      0.77     88965\n",
      "\n",
      "    accuracy                           0.59    170348\n",
      "   macro avg       0.47      0.50      0.48    170348\n",
      "weighted avg       0.62      0.59      0.60    170348\n",
      "\n"
     ]
    }
   ],
   "source": [
    "print(classification_report(y_test, y_pred))"
   ]
  }
 ],
 "metadata": {
  "kernelspec": {
   "display_name": "venv",
   "language": "python",
   "name": "python3"
  },
  "language_info": {
   "codemirror_mode": {
    "name": "ipython",
    "version": 3
   },
   "file_extension": ".py",
   "mimetype": "text/x-python",
   "name": "python",
   "nbconvert_exporter": "python",
   "pygments_lexer": "ipython3",
   "version": "3.8.13"
  }
 },
 "nbformat": 4,
 "nbformat_minor": 2
}

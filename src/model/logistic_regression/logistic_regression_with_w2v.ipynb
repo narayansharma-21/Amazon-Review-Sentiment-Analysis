{
 "cells": [
  {
   "cell_type": "markdown",
   "metadata": {},
   "source": [
    "## Logistic Regression"
   ]
  },
  {
   "cell_type": "code",
   "execution_count": 3,
   "metadata": {},
   "outputs": [],
   "source": [
    "import numpy as np\n",
    "import pandas as pd\n",
    "from sklearn.model_selection import train_test_split\n",
    "from sklearn.linear_model import LogisticRegression\n",
    "from sklearn.metrics import classification_report\n",
    "\n",
    "# Load your CSV data into a pandas DataFrame\n",
    "df = pd.read_csv('../../../data/processed/tokenized_data_sample_with_custom_stopwords.csv')\n",
    "\n",
    "# Load the vectorized features from the .npy file\n",
    "vectorized_features = np.load('../../../data/processed/sample_vectorized_features_with_custom_stopwords_word2vec.npy')\n",
    "\n",
    "feature_vectors = pd.DataFrame(vectorized_features)\n",
    "\n",
    "\n",
    "feature_vectors.columns = [f'vec_feature_{i}' for i in range(feature_vectors.shape[1])]\n",
    "\n",
    "X = feature_vectors # Feature vector\n",
    "y = df['overall']  # Target variable\n",
    "\n",
    "# Split the data into training and testing sets\n",
    "X_train, X_test, y_train, y_test = train_test_split(X, y, test_size=0.2, random_state=42)"
   ]
  },
  {
   "cell_type": "code",
   "execution_count": 4,
   "metadata": {},
   "outputs": [],
   "source": [
    "# Initialize and train the logistic regression model\n",
    "model = LogisticRegression(solver='liblinear')\n",
    "model.fit(X_train, y_train)\n",
    "\n",
    "# Predict the target variable for the test set\n",
    "y_pred = model.predict(X_test)"
   ]
  },
  {
   "cell_type": "code",
   "execution_count": 5,
   "metadata": {},
   "outputs": [
    {
     "name": "stdout",
     "output_type": "stream",
     "text": [
      "              precision    recall  f1-score   support\n",
      "\n",
      "         1.0       0.67      0.39      0.49      1236\n",
      "         2.0       0.73      0.19      0.31       759\n",
      "         3.0       0.59      0.27      0.37      1082\n",
      "         4.0       0.51      0.28      0.36      1669\n",
      "         5.0       0.65      0.95      0.77      5254\n",
      "\n",
      "    accuracy                           0.64     10000\n",
      "   macro avg       0.63      0.41      0.46     10000\n",
      "weighted avg       0.63      0.64      0.59     10000\n",
      "\n"
     ]
    }
   ],
   "source": [
    "# Calculate classification report\n",
    "print(classification_report(y_test, y_pred))"
   ]
  },
  {
   "cell_type": "markdown",
   "metadata": {},
   "source": [
    "## Logistic Regression (w/ class weighting)"
   ]
  },
  {
   "cell_type": "code",
   "execution_count": 6,
   "metadata": {},
   "outputs": [],
   "source": [
    "from sklearn.utils.class_weight import compute_class_weight\n",
    "\n",
    "class_weights = compute_class_weight(\n",
    "                                        class_weight = \"balanced\",\n",
    "                                        classes = np.unique(y_train),\n",
    "                                        y = y_train                                                    \n",
    "                                    )\n",
    "class_weights = dict(zip(np.unique(y_train), class_weights))\n",
    "\n",
    "# Initialize and train the logistic regression model with class weights\n",
    "model = LogisticRegression(class_weight=class_weights, solver='liblinear')\n",
    "model.fit(X_train, y_train)\n"
   ]
  },
  {
   "cell_type": "code",
   "execution_count": 8,
   "metadata": {},
   "outputs": [
    {
     "name": "stdout",
     "output_type": "stream",
     "text": [
      "              precision    recall  f1-score   support\n",
      "\n",
      "         1.0       0.49      0.52      0.50      1236\n",
      "         2.0       0.32      0.37      0.34       759\n",
      "         3.0       0.33      0.43      0.37      1082\n",
      "         4.0       0.44      0.40      0.42      1669\n",
      "         5.0       0.80      0.74      0.77      5254\n",
      "\n",
      "    accuracy                           0.60     10000\n",
      "   macro avg       0.48      0.49      0.48     10000\n",
      "weighted avg       0.61      0.60      0.60     10000\n",
      "\n"
     ]
    }
   ],
   "source": [
    "# Evaluate the model\n",
    "y_pred = model.predict(X_test)\n",
    "print(classification_report(y_test, y_pred))"
   ]
  },
  {
   "cell_type": "markdown",
   "metadata": {},
   "source": [
    "## Logistic Regression (w/ undersampling the majority class)"
   ]
  },
  {
   "cell_type": "code",
   "execution_count": 9,
   "metadata": {},
   "outputs": [],
   "source": [
    "from imblearn.under_sampling import RandomUnderSampler\n",
    "\n",
    "# Undersample the majority class (5-star reviews) automatically\n",
    "undersampler = RandomUnderSampler(sampling_strategy='auto', random_state=42)\n",
    "X_train_resampled, y_train_resampled = undersampler.fit_resample(X_train, y_train)\n",
    "\n",
    "# Initialize and train the logistic regression model\n",
    "model = LogisticRegression(solver='liblinear')\n",
    "model.fit(X_train_resampled, y_train_resampled)\n",
    "\n",
    "# Predict the target variable for the test set\n",
    "y_pred2 = model.predict(X_test)"
   ]
  },
  {
   "cell_type": "code",
   "execution_count": 10,
   "metadata": {},
   "outputs": [
    {
     "name": "stdout",
     "output_type": "stream",
     "text": [
      "              precision    recall  f1-score   support\n",
      "\n",
      "         1.0       0.42      0.53      0.47      1236\n",
      "         2.0       0.26      0.45      0.33       759\n",
      "         3.0       0.29      0.48      0.36      1082\n",
      "         4.0       0.41      0.43      0.42      1669\n",
      "         5.0       0.87      0.60      0.71      5254\n",
      "\n",
      "    accuracy                           0.54     10000\n",
      "   macro avg       0.45      0.50      0.46     10000\n",
      "weighted avg       0.63      0.54      0.56     10000\n",
      "\n"
     ]
    }
   ],
   "source": [
    "print(classification_report(y_test, y_pred2))"
   ]
  },
  {
   "cell_type": "markdown",
   "metadata": {},
   "source": [
    "## Logistic Regression (w/ oversampling minority classes)"
   ]
  },
  {
   "cell_type": "code",
   "execution_count": 15,
   "metadata": {},
   "outputs": [],
   "source": [
    "from imblearn.over_sampling import RandomOverSampler\n",
    "\n",
    "# Oversample the minority classes (1 to 4-star reviews) automatically\n",
    "oversampler = RandomOverSampler(sampling_strategy='auto', random_state=42)\n",
    "X_train_resampled, y_train_resampled = oversampler.fit_resample(X_train, y_train)\n",
    "\n",
    "# Initialize and train the logistic regression model\n",
    "model = LogisticRegression(solver='liblinear')\n",
    "model.fit(X_train_resampled, y_train_resampled)\n",
    "\n",
    "# Predict the target variable for the test set\n",
    "y_pred3 = model.predict(X_test)\n"
   ]
  },
  {
   "cell_type": "code",
   "execution_count": 16,
   "metadata": {},
   "outputs": [
    {
     "name": "stdout",
     "output_type": "stream",
     "text": [
      "              precision    recall  f1-score   support\n",
      "\n",
      "         1.0       0.44      0.53      0.48      1236\n",
      "         2.0       0.26      0.46      0.34       759\n",
      "         3.0       0.29      0.47      0.36      1082\n",
      "         4.0       0.41      0.43      0.42      1669\n",
      "         5.0       0.87      0.61      0.72      5254\n",
      "\n",
      "    accuracy                           0.54     10000\n",
      "   macro avg       0.45      0.50      0.46     10000\n",
      "weighted avg       0.63      0.54      0.57     10000\n",
      "\n"
     ]
    },
    {
     "ename": "",
     "evalue": "",
     "output_type": "error",
     "traceback": [
      "\u001b[1;31mThe Kernel crashed while executing code in the current cell or a previous cell. \n",
      "\u001b[1;31mPlease review the code in the cell(s) to identify a possible cause of the failure. \n",
      "\u001b[1;31mClick <a href='https://aka.ms/vscodeJupyterKernelCrash'>here</a> for more info. \n",
      "\u001b[1;31mView Jupyter <a href='command:jupyter.viewOutput'>log</a> for further details."
     ]
    }
   ],
   "source": [
    "print(classification_report(y_test, y_pred3))"
   ]
  },
  {
   "cell_type": "markdown",
   "metadata": {},
   "source": [
    "## Logistic Regression (w/ SMOTE sampling technique)"
   ]
  },
  {
   "cell_type": "code",
   "execution_count": 13,
   "metadata": {},
   "outputs": [],
   "source": [
    "from imblearn.over_sampling import SMOTE\n",
    "\n",
    "# Apply SMOTE to the training data\n",
    "smote = SMOTE(random_state=42)\n",
    "X_train_resampled, y_train_resampled = smote.fit_resample(X_train, y_train)\n",
    "\n",
    "# Initialize and train the logistic regression model\n",
    "model = LogisticRegression(solver='liblinear')\n",
    "model.fit(X_train_resampled, y_train_resampled)\n",
    "\n",
    "# Predict the target variable for the test set\n",
    "y_pred = model.predict(X_test)"
   ]
  },
  {
   "cell_type": "code",
   "execution_count": 14,
   "metadata": {},
   "outputs": [
    {
     "name": "stdout",
     "output_type": "stream",
     "text": [
      "              precision    recall  f1-score   support\n",
      "\n",
      "         1.0       0.44      0.54      0.48      1236\n",
      "         2.0       0.26      0.45      0.33       759\n",
      "         3.0       0.30      0.47      0.36      1082\n",
      "         4.0       0.42      0.43      0.43      1669\n",
      "         5.0       0.86      0.62      0.72      5254\n",
      "\n",
      "    accuracy                           0.55     10000\n",
      "   macro avg       0.46      0.50      0.47     10000\n",
      "weighted avg       0.63      0.55      0.57     10000\n",
      "\n"
     ]
    }
   ],
   "source": [
    "print(classification_report(y_test, y_pred))"
   ]
  }
 ],
 "metadata": {
  "kernelspec": {
   "display_name": "venv",
   "language": "python",
   "name": "python3"
  },
  "language_info": {
   "codemirror_mode": {
    "name": "ipython",
    "version": 3
   },
   "file_extension": ".py",
   "mimetype": "text/x-python",
   "name": "python",
   "nbconvert_exporter": "python",
   "pygments_lexer": "ipython3",
   "version": "3.10.11"
  }
 },
 "nbformat": 4,
 "nbformat_minor": 2
}
